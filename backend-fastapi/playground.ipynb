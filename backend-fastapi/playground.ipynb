{
 "cells": [
  {
   "cell_type": "code",
   "execution_count": 1,
   "metadata": {},
   "outputs": [],
   "source": [
    "import pandas as pd\n",
    "import numpy as np"
   ]
  },
  {
   "cell_type": "code",
   "execution_count": 3,
   "metadata": {},
   "outputs": [],
   "source": [
    "def get_prod_predict(product_number):\n",
    "    # Read the CSV file into a DataFrame\n",
    "    df = pd.read_csv(\"./predictions.csv\")\n",
    "\n",
    "    filtered_df = df[df[\"id\"].str.split(\"-\").str[1] == str(product_number)]\n",
    "    sorted_df = filtered_df.sort_values(\"id\", ascending=True)\n",
    "\n",
    "    # Create the output list\n",
    "    data = []\n",
    "    for _, row in sorted_df.iterrows():\n",
    "        week = row[\"id\"].str[:6]\n",
    "        value = row[\"inventory_units\"]\n",
    "\n",
    "        if math.isnan(value) or math.isinf(value):\n",
    "            value = None  # Set non-compliant float values to None\n",
    "        data.append({\"name\": week, \"value\": value})\n",
    "\n",
    "    return data"
   ]
  },
  {
   "cell_type": "code",
   "execution_count": null,
   "metadata": {},
   "outputs": [],
   "source": [
    "get_prod_predict(6909)"
   ]
  }
 ],
 "metadata": {
  "kernelspec": {
   "display_name": "base",
   "language": "python",
   "name": "python3"
  },
  "language_info": {
   "codemirror_mode": {
    "name": "ipython",
    "version": 3
   },
   "file_extension": ".py",
   "mimetype": "text/x-python",
   "name": "python",
   "nbconvert_exporter": "python",
   "pygments_lexer": "ipython3",
   "version": "3.9.12"
  },
  "orig_nbformat": 4
 },
 "nbformat": 4,
 "nbformat_minor": 2
}
